{
 "cells": [
  {
   "cell_type": "markdown",
   "metadata": {},
   "source": [
    "# ML lab 04-2 Practice\n",
    "\n",
    "---\n",
    "\n",
    "# Loading Data from File\n",
    "\n",
    "> YouTube Lecture: [link](https://www.youtube.com/watch?v=o2q4QNnoShY)"
   ]
  },
  {
   "cell_type": "markdown",
   "metadata": {},
   "source": [
    "## Indexing, Slciing, Iterating of `numpy.array`"
   ]
  },
  {
   "cell_type": "code",
   "execution_count": 16,
   "metadata": {},
   "outputs": [],
   "source": [
    "import numpy as np"
   ]
  },
  {
   "cell_type": "markdown",
   "metadata": {},
   "source": [
    "### Example (1)"
   ]
  },
  {
   "cell_type": "code",
   "execution_count": 17,
   "metadata": {},
   "outputs": [],
   "source": [
    "arr = [1, 2, 3, 4, 5]\n",
    "a = np.array(arr)"
   ]
  },
  {
   "cell_type": "code",
   "execution_count": 18,
   "metadata": {},
   "outputs": [
    {
     "data": {
      "text/plain": [
       "array([2, 3])"
      ]
     },
     "execution_count": 18,
     "metadata": {},
     "output_type": "execute_result"
    }
   ],
   "source": [
    "a[1:3]"
   ]
  },
  {
   "cell_type": "code",
   "execution_count": 19,
   "metadata": {},
   "outputs": [
    {
     "data": {
      "text/plain": [
       "5"
      ]
     },
     "execution_count": 19,
     "metadata": {},
     "output_type": "execute_result"
    }
   ],
   "source": [
    "a[-1]"
   ]
  },
  {
   "cell_type": "markdown",
   "metadata": {},
   "source": [
    "### a[0], a[1] 한꺼번에 변환\n",
    "\n",
    "Python 의 기본 list 에서는 불가능"
   ]
  },
  {
   "cell_type": "code",
   "execution_count": 20,
   "metadata": {},
   "outputs": [
    {
     "data": {
      "text/plain": [
       "array([9, 9, 3, 4, 5])"
      ]
     },
     "execution_count": 20,
     "metadata": {},
     "output_type": "execute_result"
    }
   ],
   "source": [
    "a[0:2] = 9\n",
    "a"
   ]
  },
  {
   "cell_type": "markdown",
   "metadata": {},
   "source": [
    "### Example (2)"
   ]
  },
  {
   "cell_type": "code",
   "execution_count": 66,
   "metadata": {},
   "outputs": [],
   "source": [
    "arr2 = [[1, 2, 3, 4], [5, 6, 7, 8], [9, 10, 11, 12]]\n",
    "b = np.array(arr2)"
   ]
  },
  {
   "cell_type": "code",
   "execution_count": 67,
   "metadata": {},
   "outputs": [
    {
     "data": {
      "text/plain": [
       "array([ 2,  6, 10])"
      ]
     },
     "execution_count": 67,
     "metadata": {},
     "output_type": "execute_result"
    }
   ],
   "source": [
    "b[:, 1]"
   ]
  },
  {
   "cell_type": "code",
   "execution_count": 68,
   "metadata": {},
   "outputs": [
    {
     "data": {
      "text/plain": [
       "array([ 9, 10, 11, 12])"
      ]
     },
     "execution_count": 68,
     "metadata": {},
     "output_type": "execute_result"
    }
   ],
   "source": [
    "b[-1]"
   ]
  },
  {
   "cell_type": "code",
   "execution_count": 69,
   "metadata": {},
   "outputs": [
    {
     "data": {
      "text/plain": [
       "array([ 9, 10, 11, 12])"
      ]
     },
     "execution_count": 69,
     "metadata": {},
     "output_type": "execute_result"
    }
   ],
   "source": [
    "b[-1, :]"
   ]
  },
  {
   "cell_type": "code",
   "execution_count": 70,
   "metadata": {},
   "outputs": [
    {
     "data": {
      "text/plain": [
       "array([ 9, 10, 11, 12])"
      ]
     },
     "execution_count": 70,
     "metadata": {},
     "output_type": "execute_result"
    }
   ],
   "source": [
    "b[-1, ...]  # Colon instances (`:`) can be replaced with dots (`...`) "
   ]
  },
  {
   "cell_type": "code",
   "execution_count": 71,
   "metadata": {},
   "outputs": [
    {
     "data": {
      "text/plain": [
       "array([[1, 2, 3, 4],\n",
       "       [5, 6, 7, 8]])"
      ]
     },
     "execution_count": 71,
     "metadata": {},
     "output_type": "execute_result"
    }
   ],
   "source": [
    "b[0:2, :]"
   ]
  },
  {
   "cell_type": "markdown",
   "metadata": {},
   "source": [
    "### Slicing Index 에 `[]` 를 사용할 경우"
   ]
  },
  {
   "cell_type": "code",
   "execution_count": 81,
   "metadata": {},
   "outputs": [
    {
     "name": "stdout",
     "output_type": "stream",
     "text": [
      "[[ 4]\n",
      " [ 8]\n",
      " [12]]\n",
      "(3, 1)\n"
     ]
    }
   ],
   "source": [
    "print(b[:, [-1]])\n",
    "print(b[:, [-1]].shape)"
   ]
  },
  {
   "cell_type": "code",
   "execution_count": 80,
   "metadata": {},
   "outputs": [
    {
     "name": "stdout",
     "output_type": "stream",
     "text": [
      "[ 4  8 12]\n",
      "(3,)\n"
     ]
    }
   ],
   "source": [
    "print(b[:, -1])\n",
    "print(b[:, -1].shape)"
   ]
  },
  {
   "cell_type": "markdown",
   "metadata": {},
   "source": [
    "## Loading data from file"
   ]
  },
  {
   "cell_type": "code",
   "execution_count": 30,
   "metadata": {},
   "outputs": [],
   "source": [
    "import numpy as np\n",
    "\n",
    "\n",
    "xy = np.loadtxt('./data_files/data-01-test-score.csv', delimiter=',', dtype=np.float32)\n",
    "x_data = xy[:, 0:-1]\n",
    "y_data = xy[:, [-1]]"
   ]
  },
  {
   "cell_type": "code",
   "execution_count": 39,
   "metadata": {},
   "outputs": [
    {
     "data": {
      "text/plain": [
       "array([[ 73.,  80.,  75.],\n",
       "       [ 93.,  88.,  93.],\n",
       "       [ 89.,  91.,  90.],\n",
       "       [ 96.,  98., 100.],\n",
       "       [ 73.,  66.,  70.],\n",
       "       [ 53.,  46.,  55.],\n",
       "       [ 69.,  74.,  77.],\n",
       "       [ 47.,  56.,  60.],\n",
       "       [ 87.,  79.,  90.],\n",
       "       [ 79.,  70.,  88.],\n",
       "       [ 69.,  70.,  73.],\n",
       "       [ 70.,  65.,  74.],\n",
       "       [ 93.,  95.,  91.],\n",
       "       [ 79.,  80.,  73.],\n",
       "       [ 70.,  73.,  78.],\n",
       "       [ 93.,  89.,  96.],\n",
       "       [ 78.,  75.,  68.],\n",
       "       [ 81.,  90.,  93.],\n",
       "       [ 88.,  92.,  86.],\n",
       "       [ 78.,  83.,  77.],\n",
       "       [ 82.,  86.,  90.],\n",
       "       [ 86.,  82.,  89.],\n",
       "       [ 78.,  83.,  85.],\n",
       "       [ 76.,  83.,  71.],\n",
       "       [ 96.,  93.,  95.]], dtype=float32)"
      ]
     },
     "execution_count": 39,
     "metadata": {},
     "output_type": "execute_result"
    }
   ],
   "source": [
    "x_data"
   ]
  },
  {
   "cell_type": "code",
   "execution_count": 40,
   "metadata": {},
   "outputs": [
    {
     "data": {
      "text/plain": [
       "array([[152.],\n",
       "       [185.],\n",
       "       [180.],\n",
       "       [196.],\n",
       "       [142.],\n",
       "       [101.],\n",
       "       [149.],\n",
       "       [115.],\n",
       "       [175.],\n",
       "       [164.],\n",
       "       [141.],\n",
       "       [141.],\n",
       "       [184.],\n",
       "       [152.],\n",
       "       [148.],\n",
       "       [192.],\n",
       "       [147.],\n",
       "       [183.],\n",
       "       [177.],\n",
       "       [159.],\n",
       "       [177.],\n",
       "       [175.],\n",
       "       [175.],\n",
       "       [149.],\n",
       "       [192.]], dtype=float32)"
      ]
     },
     "execution_count": 40,
     "metadata": {},
     "output_type": "execute_result"
    }
   ],
   "source": [
    "y_data"
   ]
  },
  {
   "cell_type": "markdown",
   "metadata": {},
   "source": [
    "## Practice"
   ]
  },
  {
   "cell_type": "code",
   "execution_count": 82,
   "metadata": {},
   "outputs": [
    {
     "name": "stdout",
     "output_type": "stream",
     "text": [
      "(25, 3) [[ 73.  80.  75.]\n",
      " [ 93.  88.  93.]\n",
      " [ 89.  91.  90.]\n",
      " [ 96.  98. 100.]\n",
      " [ 73.  66.  70.]\n",
      " [ 53.  46.  55.]\n",
      " [ 69.  74.  77.]\n",
      " [ 47.  56.  60.]\n",
      " [ 87.  79.  90.]\n",
      " [ 79.  70.  88.]\n",
      " [ 69.  70.  73.]\n",
      " [ 70.  65.  74.]\n",
      " [ 93.  95.  91.]\n",
      " [ 79.  80.  73.]\n",
      " [ 70.  73.  78.]\n",
      " [ 93.  89.  96.]\n",
      " [ 78.  75.  68.]\n",
      " [ 81.  90.  93.]\n",
      " [ 88.  92.  86.]\n",
      " [ 78.  83.  77.]\n",
      " [ 82.  86.  90.]\n",
      " [ 86.  82.  89.]\n",
      " [ 78.  83.  85.]\n",
      " [ 76.  83.  71.]\n",
      " [ 96.  93.  95.]] 25\n",
      "------------------------------\n",
      "(25, 1) [[152.]\n",
      " [185.]\n",
      " [180.]\n",
      " [196.]\n",
      " [142.]\n",
      " [101.]\n",
      " [149.]\n",
      " [115.]\n",
      " [175.]\n",
      " [164.]\n",
      " [141.]\n",
      " [141.]\n",
      " [184.]\n",
      " [152.]\n",
      " [148.]\n",
      " [192.]\n",
      " [147.]\n",
      " [183.]\n",
      " [177.]\n",
      " [159.]\n",
      " [177.]\n",
      " [175.]\n",
      " [175.]\n",
      " [149.]\n",
      " [192.]] 25\n"
     ]
    }
   ],
   "source": [
    "import tensorflow as tf\n",
    "import numpy as np\n",
    "\n",
    "\n",
    "tf.set_random_seed(777)  # for reproducibility\n",
    "\n",
    "xy = np.loadtxt('./data_files/data-01-test-score.csv', delimiter=',', dtype=np.float32)\n",
    "x_data = xy[:, 0:-1]\n",
    "y_data = xy[:, [-1]]\n",
    "\n",
    "# Make sure the shape and data are OK\n",
    "print(x_data.shape, x_data, len(x_data))\n",
    "print('-' * 30)\n",
    "print(y_data.shape, y_data, len(y_data))"
   ]
  },
  {
   "cell_type": "code",
   "execution_count": 90,
   "metadata": {},
   "outputs": [
    {
     "name": "stdout",
     "output_type": "stream",
     "text": [
      "0 Cost:  5274.4736 \n",
      "Prediction:\n",
      " [[229.28372]\n",
      " [262.1575 ]\n",
      " [265.42902]\n",
      " [286.90607]\n",
      " [198.32886]\n",
      " [141.19006]\n",
      " [215.21245]\n",
      " [160.60373]\n",
      " [239.18307]\n",
      " [215.4727 ]\n",
      " [205.56784]\n",
      " [195.9032 ]\n",
      " [276.23428]\n",
      " [231.8028 ]\n",
      " [213.9474 ]\n",
      " [265.1912 ]\n",
      " [219.22342]\n",
      " [260.07413]\n",
      " [265.7603 ]\n",
      " [238.82393]\n",
      " [251.26436]\n",
      " [244.64792]\n",
      " [241.314  ]\n",
      " [235.9092 ]\n",
      " [274.8503 ]]\n",
      "400 Cost:  50.807632 \n",
      "Prediction:\n",
      " [[160.1079 ]\n",
      " [181.22504]\n",
      " [184.49753]\n",
      " [199.3546 ]\n",
      " [136.66797]\n",
      " [ 96.89708]\n",
      " [149.9327 ]\n",
      " [112.5013 ]\n",
      " [164.77832]\n",
      " [148.05544]\n",
      " [142.72818]\n",
      " [135.14319]\n",
      " [192.05707]\n",
      " [161.13373]\n",
      " [148.76294]\n",
      " [183.4208 ]\n",
      " [151.89134]\n",
      " [181.59169]\n",
      " [185.07532]\n",
      " [166.4977 ]\n",
      " [174.82127]\n",
      " [169.15567]\n",
      " [168.07625]\n",
      " [164.84029]\n",
      " [190.34895]]\n",
      "800 Cost:  37.48229 \n",
      "Prediction:\n",
      " [[158.97905 ]\n",
      " [181.72922 ]\n",
      " [183.99501 ]\n",
      " [199.2988  ]\n",
      " [137.10945 ]\n",
      " [ 98.19819 ]\n",
      " [150.09944 ]\n",
      " [112.861435]\n",
      " [166.28159 ]\n",
      " [150.70045 ]\n",
      " [142.93889 ]\n",
      " [136.36052 ]\n",
      " [191.06786 ]\n",
      " [159.73425 ]\n",
      " [149.26282 ]\n",
      " [184.22878 ]\n",
      " [150.53947 ]\n",
      " [181.67087 ]\n",
      " [183.76752 ]\n",
      " [165.21527 ]\n",
      " [175.10913 ]\n",
      " [169.98909 ]\n",
      " [168.0529  ]\n",
      " [162.59885 ]\n",
      " [190.34811 ]]\n",
      "1200 Cost:  28.132902 \n",
      "Prediction:\n",
      " [[158.03018]\n",
      " [182.15604]\n",
      " [183.57428]\n",
      " [199.25058]\n",
      " [137.48616]\n",
      " [ 99.29144]\n",
      " [150.23308]\n",
      " [113.15147]\n",
      " [167.54483]\n",
      " [152.91675]\n",
      " [143.11385]\n",
      " [137.38174]\n",
      " [190.24138]\n",
      " [158.56677]\n",
      " [149.67651]\n",
      " [184.90768]\n",
      " [149.41632]\n",
      " [181.72691]\n",
      " [182.67308]\n",
      " [164.14072]\n",
      " [175.345  ]\n",
      " [170.68918]\n",
      " [168.0281 ]\n",
      " [160.72237]\n",
      " [190.35153]]\n",
      "1600 Cost:  21.571606 \n",
      "Prediction:\n",
      " [[157.23233 ]\n",
      " [182.51761 ]\n",
      " [183.22203 ]\n",
      " [199.20885 ]\n",
      " [137.80794 ]\n",
      " [100.21033 ]\n",
      " [150.33955 ]\n",
      " [113.383934]\n",
      " [168.6067  ]\n",
      " [154.77397 ]\n",
      " [143.25899 ]\n",
      " [138.23857 ]\n",
      " [189.55096 ]\n",
      " [157.59311 ]\n",
      " [150.01855 ]\n",
      " [185.47833 ]\n",
      " [148.48383 ]\n",
      " [181.76459 ]\n",
      " [181.75716 ]\n",
      " [163.24026 ]\n",
      " [175.53786 ]\n",
      " [171.2774  ]\n",
      " [168.0026  ]\n",
      " [159.1514  ]\n",
      " [190.35812 ]]\n",
      "2000 Cost:  16.965553 \n",
      "Prediction:\n",
      " [[156.56119]\n",
      " [182.82419]\n",
      " [182.9271 ]\n",
      " [199.17267]\n",
      " [138.08316]\n",
      " [100.98292]\n",
      " [150.42381]\n",
      " [113.56915]\n",
      " [169.49962]\n",
      " [156.33047]\n",
      " [143.3793 ]\n",
      " [138.95767]\n",
      " [188.97432]\n",
      " [156.7813 ]\n",
      " [150.30101]\n",
      " [185.95816]\n",
      " [147.71016]\n",
      " [181.78772]\n",
      " [180.99065]\n",
      " [162.4856 ]\n",
      " [175.69513]\n",
      " [171.77184]\n",
      " [167.97694]\n",
      " [157.8361 ]\n",
      " [190.36703]]\n"
     ]
    }
   ],
   "source": [
    "# placeholders for a tensor that will be always fed\n",
    "X = tf.placeholder(tf.float32, shape=[None, 3])\n",
    "Y = tf.placeholder(tf.float32, shape=[None, 1])\n",
    "\n",
    "W = tf.Variable(tf.random_normal([3, 1]), name='weight')\n",
    "b = tf.Variable(tf.random_normal([1]), name='bias')\n",
    "\n",
    "# Hypothesis\n",
    "hypothesis = tf.matmul(X, W) + b\n",
    "\n",
    "# Simplified cost/loss function\n",
    "cost = tf.reduce_mean(tf.square(hypothesis - Y))\n",
    "\n",
    "# Minimize\n",
    "optimizer = tf.train.GradientDescentOptimizer(learning_rate=1e-5)\n",
    "train = optimizer.minimize(cost)\n",
    "\n",
    "# Launch the graph in a session\n",
    "sess = tf.Session()\n",
    "# Initializes global variables in the graph\n",
    "sess.run(tf.global_variables_initializer())\n",
    "\n",
    "# Set up feed_dict variables inside the loop\n",
    "for step in range(2001):\n",
    "    cost_val, hy_val, _ = sess.run(\n",
    "        [cost, hypothesis, train],\n",
    "        feed_dict={X: x_data, Y: y_data}\n",
    "    )\n",
    "    if step % 400 == 0:\n",
    "        print(step, 'Cost: ', cost_val, '\\nPrediction:\\n', hy_val)"
   ]
  },
  {
   "cell_type": "code",
   "execution_count": 91,
   "metadata": {},
   "outputs": [
    {
     "name": "stdout",
     "output_type": "stream",
     "text": [
      "Your score will be  [[170.83582]]\n",
      "Other score will be  [[166.39517]\n",
      " [185.99599]]\n"
     ]
    }
   ],
   "source": [
    "# Ask my score\n",
    "print('Your score will be ', sess.run(hypothesis, feed_dict={X: [[100, 70, 101]]}))\n",
    "print('Other score will be ', sess.run(hypothesis, feed_dict={X: [[60, 70, 110], [90, 100, 80]]}))"
   ]
  },
  {
   "cell_type": "markdown",
   "metadata": {},
   "source": [
    "데이터를 재학습시킬 경우  \n",
    "출력되는 결과의 오차가 크다."
   ]
  },
  {
   "cell_type": "markdown",
   "metadata": {},
   "source": [
    "## Queue Runners (Full Code)"
   ]
  },
  {
   "cell_type": "code",
   "execution_count": 94,
   "metadata": {},
   "outputs": [
    {
     "name": "stdout",
     "output_type": "stream",
     "text": [
      "0 Cost:  59680.43 \n",
      "Prediction:\n",
      " [[393.75623]\n",
      " [467.99768]\n",
      " [463.74194]\n",
      " [505.6883 ]\n",
      " [355.1842 ]\n",
      " [262.42017]\n",
      " [381.09637]\n",
      " [286.22787]\n",
      " [437.0345 ]\n",
      " [405.8687 ]]\n",
      "400 Cost:  10.172785 \n",
      "Prediction:\n",
      " [[155.97052]\n",
      " [182.95004]\n",
      " [182.48428]\n",
      " [199.49686]\n",
      " [137.87628]\n",
      " [102.47931]\n",
      " [151.86852]\n",
      " [116.22436]\n",
      " [170.95663]\n",
      " [159.74663]]\n",
      "800 Cost:  8.6322 \n",
      "Prediction:\n",
      " [[155.61862]\n",
      " [183.20615]\n",
      " [182.37817]\n",
      " [199.48605]\n",
      " [138.15378]\n",
      " [102.92448]\n",
      " [151.82529]\n",
      " [116.12323]\n",
      " [171.48126]\n",
      " [160.52452]]\n",
      "1200 Cost:  7.5281525 \n",
      "Prediction:\n",
      " [[155.31937]\n",
      " [183.42754]\n",
      " [182.28998]\n",
      " [199.47491]\n",
      " [138.39682]\n",
      " [103.30218]\n",
      " [151.77985]\n",
      " [116.02054]\n",
      " [171.9265 ]\n",
      " [161.1763 ]]\n",
      "1600 Cost:  6.734626 \n",
      "Prediction:\n",
      " [[155.06451]\n",
      " [183.61926]\n",
      " [182.21669]\n",
      " [199.46371]\n",
      " [138.61003]\n",
      " [103.62303]\n",
      " [151.73341]\n",
      " [115.91829]\n",
      " [172.30481]\n",
      " [161.72261]]\n",
      "2000 Cost:  6.162429 \n",
      "Prediction:\n",
      " [[154.8472  ]\n",
      " [183.78554 ]\n",
      " [182.15579 ]\n",
      " [199.45264 ]\n",
      " [138.79733 ]\n",
      " [103.895935]\n",
      " [151.68698 ]\n",
      " [115.81799 ]\n",
      " [172.62668 ]\n",
      " [162.18079 ]]\n"
     ]
    }
   ],
   "source": [
    "import tensorflow as tf\n",
    "\n",
    "\n",
    "filename_queue = tf.train.string_input_producer(\n",
    "    ['./data_files/data-01-test-score.csv'],\n",
    "    shuffle=False,\n",
    "    name='filename_queue'\n",
    ")\n",
    "reader = tf.TextLineReader()\n",
    "key, value = reader.read(filename_queue)\n",
    "\n",
    "# Default values, in case of empty columns. Also specifies the type of the decoded result\n",
    "record_defaults = [[0.], [0.], [0.], [0.]]\n",
    "xy = tf.decode_csv(value, record_defaults=record_defaults)\n",
    "\n",
    "# Collect batches of csv in\n",
    "train_x_batch, train_y_batch = tf.train.batch([xy[0:-1], xy[-1:]], batch_size=10)\n",
    "\n",
    "# placeholders for a tensor that will be always fed\n",
    "X = tf.placeholder(tf.float32, shape=[None, 3])\n",
    "Y = tf.placeholder(tf.float32, shape=[None, 1])\n",
    "\n",
    "W = tf.Variable(tf.random_normal([3, 1]), name='weight')\n",
    "b = tf.Variable(tf.random_normal([1]), name='bias')\n",
    "\n",
    "# Hypothesis\n",
    "hypothesis = tf.matmul(X, W) + b\n",
    "\n",
    "# Simplified cost/loss function\n",
    "cost = tf.reduce_mean(tf.square(hypothesis - Y))\n",
    "\n",
    "# Minimize\n",
    "optimizer = tf.train.GradientDescentOptimizer(learning_rate=1e-5)\n",
    "train = optimizer.minimize(cost)\n",
    "\n",
    "# Launch the graph in a session\n",
    "sess = tf.Session()\n",
    "# Initializes global variables in the graph\n",
    "sess.run(tf.global_variables_initializer())\n",
    "\n",
    "# Start populating the filename queue\n",
    "coord = tf.train.Coordinator()\n",
    "threads = tf.train.start_queue_runners(sess=sess, coord=coord)\n",
    "\n",
    "for step in range(2001):\n",
    "    x_batch, y_batch, = sess.run([train_x_batch, train_y_batch])\n",
    "    cost_val, hy_val, _ = sess.run([cost, hypothesis, train],\n",
    "                                  feed_dict={X: x_batch, Y: y_batch})\n",
    "    if step % 400 == 0:\n",
    "        print(step, 'Cost: ', cost_val, '\\nPrediction:\\n', hy_val)\n",
    "        \n",
    "coord.request_stop()\n",
    "coord.join(threads)"
   ]
  },
  {
   "cell_type": "markdown",
   "metadata": {},
   "source": [
    "### `shuffle_batch`"
   ]
  },
  {
   "cell_type": "code",
   "execution_count": null,
   "metadata": {},
   "outputs": [],
   "source": [
    "\"\"\"\n",
    "min_after_dequeue defines how big a buffer we will\n",
    "  randomly sample from -- bigger means better\n",
    "  shuffling but slower start up and more memory used.\n",
    "capacity must be larger than min_after_dequeue and\n",
    "  the amount larger determines the maximum we will prefetch.\n",
    "  Recommendation: min_after_dequeue + (num_threads + a small safety margin) * batch_size\n",
    "\"\"\"\n",
    "min_after_dequeue = 10000\n",
    "capacity = min_after_dequeue + 3 * batch_size\n",
    "example_batch, label_batch = tf.train.shuffle_batch(\n",
    "    [example, label],\n",
    "    batch_size=batch_size,\n",
    "    capacity=capacity,\n",
    "    min_after_dequeue=min_after_dequeue\n",
    ")"
   ]
  }
 ],
 "metadata": {
  "kernelspec": {
   "display_name": "Python 3",
   "language": "python",
   "name": "python3"
  },
  "language_info": {
   "codemirror_mode": {
    "name": "ipython",
    "version": 3
   },
   "file_extension": ".py",
   "mimetype": "text/x-python",
   "name": "python",
   "nbconvert_exporter": "python",
   "pygments_lexer": "ipython3",
   "version": "3.7.1"
  }
 },
 "nbformat": 4,
 "nbformat_minor": 2
}
