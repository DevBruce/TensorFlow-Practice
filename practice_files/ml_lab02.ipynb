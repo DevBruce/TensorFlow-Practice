{
 "cells": [
  {
   "cell_type": "markdown",
   "metadata": {},
   "source": [
    "# ML lab 02 Practice\n",
    "\n",
    "> YouTube Lecture: [link](https://www.youtube.com/watch?v=mQGwjrStQgg&feature=youtu.be)"
   ]
  },
  {
   "cell_type": "code",
   "execution_count": 1,
   "metadata": {},
   "outputs": [
    {
     "name": "stdout",
     "output_type": "stream",
     "text": [
      "TensorFlow Version: 1.13.1\n"
     ]
    }
   ],
   "source": [
    "import tensorflow as tf\n",
    "\n",
    "print(f'TensorFlow Version: {tf.__version__}')"
   ]
  },
  {
   "cell_type": "markdown",
   "metadata": {},
   "source": [
    "## Build graph using TF operations"
   ]
  },
  {
   "cell_type": "markdown",
   "metadata": {},
   "source": [
    "H(x) = Wx + b"
   ]
  },
  {
   "cell_type": "code",
   "execution_count": 3,
   "metadata": {},
   "outputs": [],
   "source": [
    "# X and Y data\n",
    "x_train = [1, 2, 3]\n",
    "y_train = [1, 2, 3]\n",
    "\n",
    "# tf.Variable 은 TensorFlow 가 학습하는 과정에서 변경시키는 값\n",
    "W = tf.Variable(tf.random_normal([1]), name='weight')\n",
    "b = tf.Variable(tf.random_normal([1]), name='bias')\n",
    "\n",
    "# Out hypothesis XW + b\n",
    "hypothesis = x_train * W + b  # hypothesis == H(x)\n",
    "\n",
    "# cost/loss function\n",
    "cost = tf.reduce_mean(tf.square(hypothesis - y_train))  # reduce_mean 은 sequence 데이터의 평균값을 반환한다."
   ]
  },
  {
   "cell_type": "markdown",
   "metadata": {},
   "source": [
    "## Gradient Descent"
   ]
  },
  {
   "cell_type": "code",
   "execution_count": 4,
   "metadata": {},
   "outputs": [],
   "source": [
    "# Minimize\n",
    "optimizer = tf.train.GradientDescentOptimizer(learning_rate=0.01)\n",
    "train = optimizer.minimize(cost)"
   ]
  },
  {
   "cell_type": "markdown",
   "metadata": {},
   "source": [
    "## Run/Update graph and get results"
   ]
  },
  {
   "cell_type": "code",
   "execution_count": 29,
   "metadata": {},
   "outputs": [
    {
     "name": "stdout",
     "output_type": "stream",
     "text": [
      "0 0.37069973 [0.6160097] [0.24606034]\n",
      "100 0.010716714 [0.87976444] [0.27331883]\n",
      "200 0.0066222697 [0.9054853] [0.21485424]\n",
      "300 0.0040921723 [0.92570275] [0.16889508]\n",
      "400 0.0025287059 [0.9415956] [0.13276693]\n",
      "500 0.0015625911 [0.95408887] [0.10436685]\n",
      "600 0.0009655862 [0.9639096] [0.08204186]\n",
      "700 0.0005966713 [0.9716297] [0.06449237]\n",
      "800 0.00036870528 [0.97769845] [0.05069683]\n",
      "900 0.00022783702 [0.9824689] [0.03985227]\n",
      "1000 0.00014078977 [0.9862189] [0.03132752]\n",
      "1100 8.7000044e-05 [0.9891668] [0.02462628]\n",
      "1200 5.3760203e-05 [0.9914842] [0.01935841]\n",
      "1300 3.3220247e-05 [0.99330586] [0.01521743]\n",
      "1400 2.0527996e-05 [0.9947377] [0.01196233]\n",
      "1500 1.2685584e-05 [0.9958634] [0.00940351]\n",
      "1600 7.83892e-06 [0.9967482] [0.00739202]\n",
      "1700 4.843895e-06 [0.9974438] [0.00581084]\n",
      "1800 2.993489e-06 [0.99799055] [0.0045679]\n",
      "1900 1.8498291e-06 [0.9984203] [0.00359088]\n",
      "2000 1.1432256e-06 [0.9987582] [0.00282283]\n",
      "2100 7.06452e-07 [0.9990238] [0.00221912]\n"
     ]
    }
   ],
   "source": [
    "# Launch the graph in a session\n",
    "sess = tf.Session()\n",
    "# Initializes global variables in the graph\n",
    "sess.run(tf.global_variables_initializer())\n",
    "\n",
    "# Fit the line\n",
    "for step in range(2101):\n",
    "    sess.run(train)\n",
    "    if step % 100 == 0:\n",
    "        print(step, sess.run(cost), sess.run(W), sess.run(b))"
   ]
  },
  {
   "cell_type": "markdown",
   "metadata": {},
   "source": [
    "## Placeholers (Full Code)"
   ]
  },
  {
   "cell_type": "code",
   "execution_count": 36,
   "metadata": {},
   "outputs": [
    {
     "name": "stdout",
     "output_type": "stream",
     "text": [
      "0 23.785471 [0.0457142] [0.49192974]\n",
      "100 0.009487795 [1.0630246] [0.87246096]\n",
      "200 0.004819491 [1.0449188] [0.93782884]\n",
      "300 0.0024481553 [1.0320146] [0.9844174]\n",
      "400 0.0012435948 [1.0228174] [1.0176219]\n",
      "500 0.0006317002 [1.0162624] [1.0412875]\n",
      "600 0.00032089127 [1.0115906] [1.0581543]\n",
      "700 0.00016300152 [1.0082608] [1.0701756]\n",
      "800 8.280047e-05 [1.0058876] [1.0787436]\n",
      "900 4.206108e-05 [1.0041963] [1.08485]\n",
      "1000 2.1366552e-05 [1.0029908] [1.0892019]\n",
      "1100 1.0854243e-05 [1.0021317] [1.0923038]\n",
      "1200 5.513361e-06 [1.0015193] [1.0945147]\n",
      "1300 2.8011941e-06 [1.001083] [1.0960902]\n",
      "1400 1.4230948e-06 [1.000772] [1.0972131]\n",
      "1500 7.232301e-07 [1.0005503] [1.0980133]\n",
      "1600 3.675344e-07 [1.0003924] [1.0985837]\n",
      "1700 1.8683963e-07 [1.0002798] [1.0989902]\n",
      "1800 9.5024156e-08 [1.0001993] [1.09928]\n",
      "1900 4.8343917e-08 [1.0001423] [1.0994866]\n",
      "2000 2.4601889e-08 [1.0001016] [1.0996335]\n",
      "2100 1.2558667e-08 [1.0000726] [1.0997382]\n"
     ]
    }
   ],
   "source": [
    "import tensorflow as tf\n",
    "\n",
    "X = tf.placeholder(tf.float32, shape=[None])  # shape=[None] 은 모든값 허용\n",
    "Y = tf.placeholder(tf.float32, shape=[None])\n",
    "W = tf.Variable(tf.random_normal([1]), name='weight')\n",
    "b = tf.Variable(tf.random_normal([1]), name='bias')\n",
    "\n",
    "hypothesis = X * W + b\n",
    "cost = tf.reduce_mean(tf.square(hypothesis - Y))\n",
    "\n",
    "optimizer = tf.train.GradientDescentOptimizer(learning_rate=0.01)\n",
    "train = optimizer.minimize(cost)\n",
    "\n",
    "sess = tf.Session()\n",
    "sess.run(tf.global_variables_initializer())\n",
    "\n",
    "for step in range(2101):\n",
    "    cost_val, W_val, b_val, _ = sess.run([cost, W, b, train], feed_dict={X: [1, 2, 3, 4, 5], Y: [2.1, 3.1, 4.1, 5.1, 6.1]})\n",
    "    if step % 100 == 0:\n",
    "        print(step, cost_val, W_val, b_val)"
   ]
  },
  {
   "cell_type": "markdown",
   "metadata": {},
   "source": [
    "## Testing Our Model"
   ]
  },
  {
   "cell_type": "code",
   "execution_count": 43,
   "metadata": {},
   "outputs": [
    {
     "name": "stdout",
     "output_type": "stream",
     "text": [
      "H(5): [6.100101]\n",
      "H(2.5): [3.5999198]\n",
      "H([1.5, 3.5]): [2.5998473 4.5999923]\n"
     ]
    }
   ],
   "source": [
    "print('H(5): {}'.format(sess.run(hypothesis, feed_dict={X: [5]})))\n",
    "print('H(2.5): {}'.format(sess.run(hypothesis, feed_dict={X: [2.5]})))\n",
    "print('H([1.5, 3.5]): {}'.format(sess.run(hypothesis, feed_dict={X: [1.5, 3.5]})))"
   ]
  }
 ],
 "metadata": {
  "kernelspec": {
   "display_name": "Python 3",
   "language": "python",
   "name": "python3"
  },
  "language_info": {
   "codemirror_mode": {
    "name": "ipython",
    "version": 3
   },
   "file_extension": ".py",
   "mimetype": "text/x-python",
   "name": "python",
   "nbconvert_exporter": "python",
   "pygments_lexer": "ipython3",
   "version": "3.7.1"
  }
 },
 "nbformat": 4,
 "nbformat_minor": 2
}
