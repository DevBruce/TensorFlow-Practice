{
 "cells": [
  {
   "cell_type": "markdown",
   "metadata": {},
   "source": [
    "# ML lab 02 Practice - Linear Regression\n",
    "\n",
    "> YouTube Lecture: [link](https://www.youtube.com/watch?v=mQGwjrStQgg&feature=youtu.be)"
   ]
  },
  {
   "cell_type": "code",
   "execution_count": 1,
   "metadata": {},
   "outputs": [
    {
     "name": "stdout",
     "output_type": "stream",
     "text": [
      "TensorFlow Version: 1.13.1\n"
     ]
    }
   ],
   "source": [
    "import tensorflow as tf\n",
    "\n",
    "print(f'TensorFlow Version: {tf.__version__}')"
   ]
  },
  {
   "cell_type": "markdown",
   "metadata": {},
   "source": [
    "## Build graph using TF operations"
   ]
  },
  {
   "cell_type": "markdown",
   "metadata": {},
   "source": [
    "H(x) = Wx + b"
   ]
  },
  {
   "cell_type": "code",
   "execution_count": 5,
   "metadata": {},
   "outputs": [],
   "source": [
    "# X and Y data\n",
    "x_train = [1, 2, 3]\n",
    "y_train = [1, 2, 3]\n",
    "\n",
    "# tf.Variable 은 TensorFlow 가 학습하는 과정에서 변경시키는 값\n",
    "# Variable 은 trainable 하다.\n",
    "W = tf.Variable(tf.random_normal([1]), name='weight')\n",
    "b = tf.Variable(tf.random_normal([1]), name='bias')\n",
    "\n",
    "# Out hypothesis XW + b\n",
    "hypothesis = x_train * W + b  # hypothesis == H(x)\n",
    "\n",
    "# cost/loss function\n",
    "cost = tf.reduce_mean(tf.square(hypothesis - y_train))  # reduce_mean 은 sequence 데이터의 평균값을 반환한다."
   ]
  },
  {
   "cell_type": "markdown",
   "metadata": {},
   "source": [
    "## Gradient Descent"
   ]
  },
  {
   "cell_type": "code",
   "execution_count": 6,
   "metadata": {},
   "outputs": [],
   "source": [
    "# Minimize\n",
    "optimizer = tf.train.GradientDescentOptimizer(learning_rate=0.01)\n",
    "train = optimizer.minimize(cost)"
   ]
  },
  {
   "cell_type": "markdown",
   "metadata": {},
   "source": [
    "## Run/Update graph and get results"
   ]
  },
  {
   "cell_type": "code",
   "execution_count": 7,
   "metadata": {},
   "outputs": [
    {
     "name": "stdout",
     "output_type": "stream",
     "text": [
      "0 0.7338683 [0.44970807] [1.8299586]\n",
      "100 0.26718006 [0.3996607] [1.3647169]\n",
      "200 0.16510111 [0.52807724] [1.0727913]\n",
      "300 0.10202253 [0.6290256] [0.843312]\n",
      "400 0.06304368 [0.7083804] [0.66291994]\n",
      "500 0.03895716 [0.7707605] [0.5211153]\n",
      "600 0.024073131 [0.8197969] [0.40964392]\n",
      "700 0.014875735 [0.85834396] [0.3220174]\n",
      "800 0.009192295 [0.88864547] [0.25313506]\n",
      "900 0.005680276 [0.9124652] [0.1989872]\n",
      "1000 0.003510074 [0.9311896] [0.15642221]\n",
      "1100 0.0021690102 [0.9459088] [0.12296215]\n",
      "1200 0.0013403202 [0.9574793] [0.09665952]\n",
      "1300 0.0008282347 [0.9665749] [0.0759832]\n",
      "1400 0.0005118004 [0.97372484] [0.05972967]\n",
      "1500 0.00031626257 [0.97934514] [0.04695303]\n",
      "1600 0.00019543224 [0.98376346] [0.03690945]\n",
      "1700 0.000120764926 [0.98723656] [0.02901417]\n",
      "1800 7.4626536e-05 [0.9899668] [0.02280784]\n",
      "1900 4.6113757e-05 [0.99211305] [0.01792896]\n",
      "2000 2.8495459e-05 [0.9938001] [0.01409378]\n"
     ]
    }
   ],
   "source": [
    "# Launch the graph in a session\n",
    "sess = tf.Session()\n",
    "# Initializes global variables in the graph\n",
    "sess.run(tf.global_variables_initializer())\n",
    "\n",
    "# Fit the line\n",
    "for step in range(2000+1):\n",
    "    sess.run(train)\n",
    "    if step % 100 == 0:\n",
    "        print(step, sess.run(cost), sess.run(W), sess.run(b))"
   ]
  },
  {
   "cell_type": "markdown",
   "metadata": {},
   "source": [
    "## Placeholers (Full Code)"
   ]
  },
  {
   "cell_type": "code",
   "execution_count": 9,
   "metadata": {},
   "outputs": [
    {
     "name": "stdout",
     "output_type": "stream",
     "text": [
      "0 44.841423 [-0.01771283] [-0.76857275]\n",
      "100 0.20214593 [1.2909106] [0.04971991]\n",
      "200 0.10268351 [1.2073375] [0.35144606]\n",
      "300 0.052159917 [1.1477733] [0.5664918]\n",
      "400 0.02649555 [1.1053207] [0.719759]\n",
      "500 0.013458854 [1.075064] [0.8289952]\n",
      "600 0.00683666 [1.0534995] [0.9068499]\n",
      "700 0.0034728132 [1.03813] [0.9623384]\n",
      "800 0.0017640574 [1.0271759] [1.0018864]\n",
      "900 0.00089607417 [1.0193686] [1.0300729]\n",
      "1000 0.000455169 [1.0138043] [1.0501621]\n",
      "1100 0.00023121492 [1.0098385] [1.0644792]\n",
      "1200 0.00011744832 [1.0070121] [1.0746838]\n",
      "1300 5.9661612e-05 [1.0049977] [1.0819565]\n",
      "1400 3.0307565e-05 [1.0035621] [1.0871398]\n",
      "1500 1.5392976e-05 [1.0025386] [1.0908349]\n",
      "1600 7.819076e-06 [1.0018094] [1.0934677]\n",
      "1700 3.97207e-06 [1.0012895] [1.0953444]\n",
      "1800 2.0181128e-06 [1.0009192] [1.0966814]\n",
      "1900 1.0255342e-06 [1.0006552] [1.0976344]\n",
      "2000 5.2115297e-07 [1.0004672] [1.0983136]\n"
     ]
    }
   ],
   "source": [
    "import tensorflow as tf\n",
    "\n",
    "X = tf.placeholder(tf.float32, shape=[None])  # shape=[None] 은 모든값 허용\n",
    "Y = tf.placeholder(tf.float32, shape=[None])\n",
    "W = tf.Variable(tf.random_normal([1]), name='weight')\n",
    "b = tf.Variable(tf.random_normal([1]), name='bias')\n",
    "\n",
    "hypothesis = X * W + b\n",
    "cost = tf.reduce_mean(tf.square(hypothesis - Y))\n",
    "\n",
    "optimizer = tf.train.GradientDescentOptimizer(learning_rate=0.01)\n",
    "train = optimizer.minimize(cost)\n",
    "\n",
    "sess = tf.Session()\n",
    "sess.run(tf.global_variables_initializer())\n",
    "\n",
    "for step in range(2000+1):\n",
    "    cost_val, W_val, b_val, _ = sess.run(\n",
    "        [cost, W, b, train],\n",
    "        feed_dict={X: [1, 2, 3, 4, 5], Y: [2.1, 3.1, 4.1, 5.1, 6.1]}\n",
    "    )\n",
    "    if step % 100 == 0:\n",
    "        print(step, cost_val, W_val, b_val)"
   ]
  },
  {
   "cell_type": "markdown",
   "metadata": {},
   "source": [
    "## Testing Our Model"
   ]
  },
  {
   "cell_type": "code",
   "execution_count": 14,
   "metadata": {},
   "outputs": [
    {
     "name": "stdout",
     "output_type": "stream",
     "text": [
      "H(5): [6.10065]\n",
      "H(2.5): [3.5994816]\n",
      "H([1.5, 3.5]): [2.5990143 4.599949 ]\n"
     ]
    }
   ],
   "source": [
    "print('H(5): {}'.format(sess.run(hypothesis, feed_dict={X: [5]})))\n",
    "print('H(2.5): {}'.format(sess.run(hypothesis, feed_dict={X: [2.5]})))\n",
    "print('H([1.5, 3.5]): {}'.format(sess.run(hypothesis, feed_dict={X: [1.5, 3.5]})))"
   ]
  }
 ],
 "metadata": {
  "kernelspec": {
   "display_name": "Python 3",
   "language": "python",
   "name": "python3"
  },
  "language_info": {
   "codemirror_mode": {
    "name": "ipython",
    "version": 3
   },
   "file_extension": ".py",
   "mimetype": "text/x-python",
   "name": "python",
   "nbconvert_exporter": "python",
   "pygments_lexer": "ipython3",
   "version": "3.7.1"
  }
 },
 "nbformat": 4,
 "nbformat_minor": 2
}
