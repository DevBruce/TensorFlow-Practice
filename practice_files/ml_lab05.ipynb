{
 "cells": [
  {
   "cell_type": "markdown",
   "metadata": {},
   "source": [
    "# ML lab 05 Practice\n",
    "\n",
    "> YouTube Lecture: [link](https://www.youtube.com/watch?v=2FeWGgnyLSw&feature=youtu.be)"
   ]
  },
  {
   "cell_type": "code",
   "execution_count": 4,
   "metadata": {},
   "outputs": [
    {
     "name": "stdout",
     "output_type": "stream",
     "text": [
      "TensorFlow Version: 1.13.1\n"
     ]
    }
   ],
   "source": [
    "import tensorflow as tf\n",
    "\n",
    "print(f'TensorFlow Version: {tf.__version__}')"
   ]
  },
  {
   "cell_type": "code",
   "execution_count": 1,
   "metadata": {},
   "outputs": [],
   "source": [
    "x_data = [[1, 2], [2, 3], [3, 1], [4, 3], [5, 3], [6, 2]]\n",
    "y_data = [[0], [0], [0], [1], [1], [1]]"
   ]
  },
  {
   "cell_type": "code",
   "execution_count": 8,
   "metadata": {},
   "outputs": [],
   "source": [
    "# placeholders for a tensor that will be always fed\n",
    "X = tf.placeholder(tf.float32, shape=[None, 2])\n",
    "Y = tf.placeholder(tf.float32, shape=[None, 1])\n",
    "\n",
    "W = tf.Variable(tf.random_normal([2, 1]), name='weight')\n",
    "b = tf.Variable(tf.random_normal([1]), name='bias')"
   ]
  },
  {
   "cell_type": "code",
   "execution_count": 11,
   "metadata": {},
   "outputs": [],
   "source": [
    "# Hypothesis using sigmoid: tf.div(1, 1. + tf.exp(tf.matmil(X, W) + b))\n",
    "hypothesis = tf.sigmoid(tf.matmul(X, W) + b)\n",
    "\n",
    "# cost/loss function\n",
    "cost = -tf.reduce_mean(Y * tf.log(hypothesis) + (1 - Y) * tf.log(1 - hypothesis))"
   ]
  },
  {
   "cell_type": "code",
   "execution_count": 12,
   "metadata": {},
   "outputs": [],
   "source": [
    "train = tf.train.GradientDescentOptimizer(learning_rate=0.01).minimize(cost)"
   ]
  },
  {
   "cell_type": "code",
   "execution_count": 13,
   "metadata": {},
   "outputs": [],
   "source": [
    "# Accuracy computation\n",
    "# True if hypothesis > 0.5 else False\n",
    "predicted = tf.cast(hypothesis > 0.5, dtype=tf.float32)\n",
    "accuracy = tf.reduce_mean(tf.cast(tf.equal(predicted, Y), dtype=tf.float32))"
   ]
  },
  {
   "cell_type": "code",
   "execution_count": 41,
   "metadata": {},
   "outputs": [
    {
     "name": "stdout",
     "output_type": "stream",
     "text": [
      "Step: 0      | Cost: 0.9134717583656311\n",
      "Step: 500    | Cost: 0.616692841053009\n",
      "Step: 1000   | Cost: 0.5903218984603882\n",
      "Step: 1500   | Cost: 0.5710660219192505\n",
      "Step: 2000   | Cost: 0.5553658604621887\n",
      "Step: 2500   | Cost: 0.5425057411193848\n",
      "Step: 3000   | Cost: 0.5319332480430603\n",
      "Step: 3500   | Cost: 0.5232032537460327\n",
      "Step: 4000   | Cost: 0.5159605741500854\n",
      "Step: 4500   | Cost: 0.5099214315414429\n",
      "Step: 5000   | Cost: 0.5048603415489197\n",
      "Step: 5500   | Cost: 0.5005976557731628\n",
      "Step: 6000   | Cost: 0.49698981642723083\n",
      "Step: 6500   | Cost: 0.4939216077327728\n",
      "Step: 7000   | Cost: 0.4913003444671631\n",
      "Step: 7500   | Cost: 0.48905110359191895\n",
      "Step: 8000   | Cost: 0.48711296916007996\n",
      "Step: 8500   | Cost: 0.48543620109558105\n",
      "Step: 9000   | Cost: 0.48398011922836304\n",
      "Step: 9500   | Cost: 0.48271095752716064\n",
      "Step: 10000  | Cost: 0.48160097002983093\n",
      "\n",
      "<Hypothesis>\n",
      " [[0.40252194]\n",
      " [0.65548855]\n",
      " [0.6932188 ]\n",
      " [0.77591133]\n",
      " [0.7133807 ]\n",
      " [0.77227855]\n",
      " [0.34666628]\n",
      " [0.8310102 ]] \n",
      "<Correct (Y)>\n",
      " [[0.]\n",
      " [1.]\n",
      " [1.]\n",
      " [1.]\n",
      " [1.]\n",
      " [1.]\n",
      " [0.]\n",
      " [1.]] \n",
      "<Accuracy>\n",
      " 0.76943344\n"
     ]
    }
   ],
   "source": [
    "# Launch graph\n",
    "with tf.Session() as sess:\n",
    "    # Initialize TensorFlow variables\n",
    "    sess.run(tf.global_variables_initializer())\n",
    "    \n",
    "    for step in range(10001):\n",
    "        cost_val, _ = sess.run([cost, train], feed_dict={X: x_data, Y: y_data})\n",
    "        if step % 500 == 0:\n",
    "            print(f'Step: {step:<6} | Cost: {cost_val}')\n",
    "            \n",
    "    # Accuracy report\n",
    "    h, c, a = sess.run([hypothesis, predicted, accuracy],\n",
    "                      feed_dict={X: x_data, Y: y_data})\n",
    "    print('\\n<Hypothesis>\\n', h[::100], '\\n<Correct (Y)>\\n', c[::100], '\\n<Accuracy>\\n', a)"
   ]
  },
  {
   "cell_type": "markdown",
   "metadata": {},
   "source": [
    "## Classifying diabetes"
   ]
  },
  {
   "cell_type": "code",
   "execution_count": 40,
   "metadata": {},
   "outputs": [
    {
     "name": "stdout",
     "output_type": "stream",
     "text": [
      "Step: 0      | Cost: 1.0046786069869995\n",
      "Step: 500    | Cost: 0.7358861565589905\n",
      "Step: 1000   | Cost: 0.6840769052505493\n",
      "Step: 1500   | Cost: 0.6444344520568848\n",
      "Step: 2000   | Cost: 0.6130597591400146\n",
      "Step: 2500   | Cost: 0.5882338881492615\n",
      "Step: 3000   | Cost: 0.568527102470398\n",
      "Step: 3500   | Cost: 0.5527905821800232\n",
      "Step: 4000   | Cost: 0.5401297211647034\n",
      "Step: 4500   | Cost: 0.5298591256141663\n",
      "Step: 5000   | Cost: 0.5214581489562988\n",
      "Step: 5500   | Cost: 0.5145305395126343\n",
      "Step: 6000   | Cost: 0.5087741613388062\n",
      "Step: 6500   | Cost: 0.5039564371109009\n",
      "Step: 7000   | Cost: 0.499897301197052\n",
      "Step: 7500   | Cost: 0.4964562654495239\n",
      "Step: 8000   | Cost: 0.4935223460197449\n",
      "Step: 8500   | Cost: 0.49100741744041443\n",
      "Step: 9000   | Cost: 0.4888412654399872\n",
      "Step: 9500   | Cost: 0.4869670271873474\n",
      "Step: 10000  | Cost: 0.48533833026885986\n",
      "\n",
      "<Hypothesis>\n",
      " [[0.37004143]\n",
      " [0.65464014]\n",
      " [0.6283606 ]\n",
      " [0.8023529 ]\n",
      " [0.7184534 ]\n",
      " [0.7179924 ]\n",
      " [0.39172474]\n",
      " [0.842677  ]] \n",
      "<Correct (Y)>\n",
      " [[0.]\n",
      " [1.]\n",
      " [1.]\n",
      " [1.]\n",
      " [1.]\n",
      " [1.]\n",
      " [0.]\n",
      " [1.]] \n",
      "<Accuracy>\n",
      " 0.77470356\n"
     ]
    }
   ],
   "source": [
    "import tensorflow as tf\n",
    "import numpy as np\n",
    "\n",
    "\n",
    "xy = np.loadtxt('./data_files/data-03-diabetes.csv', delimiter=',', dtype=np.float32)\n",
    "x_data = xy[:, 0:-1]\n",
    "y_data = xy[:, [-1]]\n",
    "\n",
    "# placeholders for a tensor that will be always fed\n",
    "X = tf.placeholder(tf.float32, shape=[None, 8])\n",
    "Y = tf.placeholder(tf.float32, shape=[None, 1])\n",
    "\n",
    "W = tf.Variable(tf.random_normal([8, 1]), name='weight')\n",
    "b = tf.Variable(tf.random_normal([1]), name='bias')\n",
    "\n",
    "# Hypothesis using sigmoid: tf.div(1, 1. + tf.exp(tf.matmul(X, W)))\n",
    "hypothesis = tf.sigmoid(tf.matmul(X, W) + b)\n",
    "# cost/loss function\n",
    "cost = -tf.reduce_mean(Y * tf.log(hypothesis) + (1 - Y) * tf.log(1 - hypothesis))\n",
    "train = tf.train.GradientDescentOptimizer(learning_rate=0.01).minimize(cost)\n",
    "\n",
    "# Accuracy computation\n",
    "# True if hypothesis > 0.5 else False\n",
    "predicted = tf.cast(hypothesis > 0.5, dtype=tf.float32)\n",
    "accuracy = tf.reduce_mean(tf.cast(tf.equal(predicted, Y), dtype=tf.float32))\n",
    "\n",
    "# Launch graph\n",
    "with tf.Session() as sess:\n",
    "    sess.run(tf.global_variables_initializer())\n",
    "    \n",
    "    feed = {X: x_data, Y: y_data}\n",
    "    for step in range(10001):\n",
    "        sess.run(train, feed_dict=feed)\n",
    "        if step % 500 == 0:\n",
    "            print(f'Step: {step:<6} | Cost: {sess.run(cost, feed_dict=feed)}')\n",
    "            \n",
    "    # Accuracy report\n",
    "    h, c, a = sess.run([hypothesis, predicted, accuracy], feed_dict=feed)\n",
    "    print('\\n<Hypothesis>\\n', h[::100], '\\n<Correct (Y)>\\n', c[::100], '\\n<Accuracy>\\n', a)"
   ]
  }
 ],
 "metadata": {
  "kernelspec": {
   "display_name": "Python 3",
   "language": "python",
   "name": "python3"
  },
  "language_info": {
   "codemirror_mode": {
    "name": "ipython",
    "version": 3
   },
   "file_extension": ".py",
   "mimetype": "text/x-python",
   "name": "python",
   "nbconvert_exporter": "python",
   "pygments_lexer": "ipython3",
   "version": "3.7.1"
  }
 },
 "nbformat": 4,
 "nbformat_minor": 2
}
