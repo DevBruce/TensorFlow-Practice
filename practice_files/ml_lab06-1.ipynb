{
 "cells": [
  {
   "cell_type": "markdown",
   "metadata": {},
   "source": [
    "# ML lab 06-1 Practice\n",
    "\n",
    "> YouTube Lecture: [link](https://www.youtube.com/watch?v=VRnubDzIy3A)"
   ]
  },
  {
   "cell_type": "code",
   "execution_count": 1,
   "metadata": {},
   "outputs": [
    {
     "name": "stdout",
     "output_type": "stream",
     "text": [
      "TensorFlow Version: 1.13.1\n"
     ]
    }
   ],
   "source": [
    "import tensorflow as tf\n",
    "\n",
    "print(f'TensorFlow Version: {tf.__version__}')"
   ]
  },
  {
   "cell_type": "markdown",
   "metadata": {},
   "source": [
    "## Softmax Classification"
   ]
  },
  {
   "cell_type": "code",
   "execution_count": 6,
   "metadata": {},
   "outputs": [
    {
     "name": "stdout",
     "output_type": "stream",
     "text": [
      "Step: 0      | Cost: 3.0893852710723877\n",
      "Step: 400    | Cost: 0.5143839120864868\n",
      "Step: 800    | Cost: 0.3619782328605652\n",
      "Step: 1200   | Cost: 0.2369900941848755\n",
      "Step: 1600   | Cost: 0.19677014648914337\n",
      "Step: 2000   | Cost: 0.16778963804244995\n",
      "------------------------------\n",
      "Testing & One-hot encoding\n",
      "\n",
      "<ALL>\n",
      "[[3.1224260e-02 9.6876657e-01 9.1404727e-06]\n",
      " [6.8967032e-01 2.8804198e-01 2.2287654e-02]\n",
      " [2.1299636e-08 4.1028202e-04 9.9958974e-01]] \n",
      "\n",
      " tf.arg_max: [1 0 2]\n"
     ]
    }
   ],
   "source": [
    "x_data = [\n",
    "    [1, 2, 1, 1],\n",
    "    [2, 1, 3, 2],\n",
    "    [3, 1, 3, 4],\n",
    "    [4, 1, 5, 5],\n",
    "    [1, 7, 5, 5],\n",
    "    [1, 2, 5, 6],\n",
    "    [1, 6, 6, 6],\n",
    "    [1, 7, 7, 7],\n",
    "]\n",
    "y_data = [\n",
    "    [0, 0, 1],  # 2\n",
    "    [0, 0, 1],  # 2\n",
    "    [0, 0, 1],  # 2\n",
    "    [0, 1, 0],  # 1\n",
    "    [0, 1, 0],  # 1\n",
    "    [0, 1, 0],  # 1\n",
    "    [1, 0, 0],  # 0\n",
    "    [1, 0, 0],  # 0\n",
    "]\n",
    "\n",
    "X = tf.placeholder('float', [None, 4])\n",
    "Y = tf.placeholder('float', [None, 3])\n",
    "nb_classes = 3\n",
    "\n",
    "W = tf.Variable(tf.random_normal([4, nb_classes]), name='weight')\n",
    "b = tf.Variable(tf.random_normal([nb_classes]), name='bias')\n",
    "\n",
    "# tf.nn.softmax computes softmax activations\n",
    "# softmax = exp(logits) / reduce_sum(exp(logits), dim)\n",
    "hypothesis = tf.nn.softmax(tf.matmul(X, W) + b)\n",
    "\n",
    "# Cross entropy cost/loss\n",
    "cost = tf.reduce_mean(-tf.reduce_sum(Y * tf.log(hypothesis), axis=1))\n",
    "optimizer = tf.train.GradientDescentOptimizer(learning_rate=0.1).minimize(cost)\n",
    "\n",
    "# Launch graph\n",
    "with tf.Session() as sess:\n",
    "    sess.run(tf.global_variables_initializer())\n",
    "    \n",
    "    for step in range(2001):\n",
    "        sess.run(optimizer, feed_dict={X: x_data, Y: y_data})\n",
    "        if step % 400 == 0:\n",
    "            print('Step: {:<6} | Cost: {}'.format(\n",
    "                step,\n",
    "                sess.run(cost, feed_dict={X: x_data, Y: y_data})\n",
    "            ))\n",
    "    \n",
    "    print('-' * 30)\n",
    "    print('Testing & One-hot encoding\\n')\n",
    "    # Testing & One-hot encoding\n",
    "    all = sess.run(hypothesis, feed_dict={X:[\n",
    "        [1, 11, 7, 9],\n",
    "        [1, 3, 4, 3],\n",
    "        [1, 1, 0, 1]\n",
    "    ]})\n",
    "    print('<ALL>\\n{} \\n\\n tf.arg_max: {}'.format(\n",
    "        all,\n",
    "        sess.run(tf.arg_max(all, 1))\n",
    "    ))"
   ]
  }
 ],
 "metadata": {
  "kernelspec": {
   "display_name": "Python 3",
   "language": "python",
   "name": "python3"
  },
  "language_info": {
   "codemirror_mode": {
    "name": "ipython",
    "version": 3
   },
   "file_extension": ".py",
   "mimetype": "text/x-python",
   "name": "python",
   "nbconvert_exporter": "python",
   "pygments_lexer": "ipython3",
   "version": "3.7.1"
  }
 },
 "nbformat": 4,
 "nbformat_minor": 2
}
