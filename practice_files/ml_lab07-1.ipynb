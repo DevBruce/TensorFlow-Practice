{
 "cells": [
  {
   "cell_type": "markdown",
   "metadata": {},
   "source": [
    "# ML lab 07-1 Practice\n",
    "\n",
    "---\n",
    "\n",
    "# Learning rate, Evaluation\n",
    "\n",
    "> YouTube Lecture: [link](https://www.youtube.com/watch?v=oSJfejG2C3w&feature=youtu.be)"
   ]
  },
  {
   "cell_type": "code",
   "execution_count": 3,
   "metadata": {},
   "outputs": [
    {
     "name": "stdout",
     "output_type": "stream",
     "text": [
      "TensorFlow Version: 1.13.1\n"
     ]
    }
   ],
   "source": [
    "import tensorflow as tf\n",
    "\n",
    "print(f'TensorFlow Version: {tf.__version__}')"
   ]
  },
  {
   "cell_type": "markdown",
   "metadata": {},
   "source": [
    "## Training and Test datasets"
   ]
  },
  {
   "cell_type": "code",
   "execution_count": 4,
   "metadata": {},
   "outputs": [],
   "source": [
    "x_data = [[1, 2, 1],\n",
    "          [1, 3, 2],\n",
    "          [1, 3, 4],\n",
    "          [1, 5, 5],\n",
    "          [1, 7, 5],\n",
    "          [1, 2, 5],\n",
    "          [1, 6, 6],\n",
    "          [1, 7, 7]]\n",
    "y_data = [[0, 0, 1],\n",
    "          [0, 0, 1],\n",
    "          [0, 0, 1],\n",
    "          [0, 1, 0],\n",
    "          [0, 1, 0],\n",
    "          [0, 1, 0],\n",
    "          [1, 0, 0],\n",
    "          [1, 0, 0]]\n",
    "\n",
    "# Evaluation our model using this test dataset\n",
    "x_test = [[2, 1, 1],\n",
    "          [3, 1, 2],\n",
    "          [3, 3, 4]]\n",
    "y_test = [[0, 0, 1],\n",
    "          [0, 0, 1],\n",
    "          [0, 0, 1]]"
   ]
  },
  {
   "cell_type": "code",
   "execution_count": 17,
   "metadata": {},
   "outputs": [
    {
     "name": "stdout",
     "output_type": "stream",
     "text": [
      "Step: 0   | Cost: 4.145891\n",
      "W: [[-0.73032856 -0.23811142  1.4061222 ]\n",
      " [-1.4419069  -0.35315716  1.3425679 ]\n",
      " [ 0.8673327   1.3459196  -0.963588  ]]\n",
      "\n",
      "Step: 20  | Cost: 1.0814314\n",
      "W: [[-0.836629   -0.24798009  1.5222914 ]\n",
      " [-0.704783   -0.5682846   0.8205716 ]\n",
      " [ 1.1358007   1.1133536  -0.9994899 ]]\n",
      "\n",
      "Step: 40  | Cost: 0.9473045\n",
      "W: [[-1.0130224  -0.2342304   1.6849352 ]\n",
      " [-0.50804836 -0.54844564  0.6039979 ]\n",
      " [ 0.9896423   1.0646244  -0.8046019 ]]\n",
      "\n",
      "Step: 60  | Cost: 0.847206\n",
      "W: [[-1.1671396  -0.23121801  1.83604   ]\n",
      " [-0.37135696 -0.48900592  0.40786684]\n",
      " [ 0.8958503   0.98787355 -0.6340585 ]]\n",
      "\n",
      "Step: 80  | Cost: 0.77119195\n",
      "W: [[-1.3052919  -0.23161045  1.9745846 ]\n",
      " [-0.27005097 -0.41964412  0.23719913]\n",
      " [ 0.8352327   0.9092097  -0.49477693]]\n",
      "\n",
      "Step: 100 | Cost: 0.71550596\n",
      "W: [[-1.4308571  -0.23156817  2.1001074 ]\n",
      " [-0.19317292 -0.35578096  0.096458  ]\n",
      " [ 0.7987278   0.84139115 -0.3904535 ]]\n",
      "\n",
      "Step: 120 | Cost: 0.6759187\n",
      "W: [[-1.545936   -0.22939867  2.213017  ]\n",
      " [-0.13535656 -0.30426708 -0.01287228]\n",
      " [ 0.7810854   0.789147   -0.32056677]]\n",
      "\n",
      "Step: 140 | Cost: 0.6474546\n",
      "W: [[-1.6522027  -0.22480012  2.3146849 ]\n",
      " [-0.09289735 -0.26620135 -0.09339717]\n",
      " [ 0.7779426   0.75182873 -0.28010553]]\n",
      "\n",
      "Step: 160 | Cost: 0.6258657\n",
      "W: [[-1.7511357  -0.21815453  2.4069724 ]\n",
      " [-0.06242554 -0.2394202  -0.1506501 ]\n",
      " [ 0.7852807   0.7260957  -0.2617105 ]]\n",
      "\n",
      "Step: 180 | Cost: 0.60837626\n",
      "W: [[-1.8440007  -0.20999058  2.4916732 ]\n",
      " [-0.04089987 -0.22082713 -0.19076875]\n",
      " [ 0.7997592   0.7082658  -0.25835896]]\n",
      "\n",
      "Step: 200 | Cost: 0.59343004\n",
      "W: [[-1.9318284  -0.20074877  2.570259  ]\n",
      " [-0.025832   -0.2077211  -0.21894255]\n",
      " [ 0.8188897   0.69543993 -0.26466355]]\n",
      "\n",
      "Prediction: [2 2 2]\n",
      "Accuracy:  1.0\n"
     ]
    }
   ],
   "source": [
    "X = tf.placeholder('float', [None, 3])\n",
    "Y = tf.placeholder('float', [None, 3])\n",
    "W = tf.Variable(tf.random_normal([3, 3]))\n",
    "b = tf.Variable(tf.random_normal([3]))\n",
    "\n",
    "hypothesis = tf.nn.softmax(tf.matmul(X, W) + b)\n",
    "cost = tf.reduce_mean(-tf.reduce_sum(Y * tf.log(hypothesis), axis=1))\n",
    "optimizer = tf.train.GradientDescentOptimizer(learning_rate=0.1).minimize(cost)\n",
    "\n",
    "# Correct prediction Test model\n",
    "prediction = tf.arg_max(hypothesis, 1)\n",
    "is_correct = tf.equal(prediction, tf.arg_max(Y, 1))\n",
    "accuracy = tf.reduce_mean(tf.cast(is_correct, tf.float32))\n",
    "\n",
    "# Launch graph\n",
    "with tf.Session() as sess:\n",
    "    # Initialize TensorFlow variables\n",
    "    sess.run(tf.global_variables_initializer())\n",
    "    for step in range(200+1):\n",
    "        cost_val, W_val, _ = sess.run([cost, W, optimizer], feed_dict={X: x_data, Y: y_data})\n",
    "        if step % 20 == 0:\n",
    "            print('Step: {:<3} | Cost: {:<}\\nW: {:<}\\n'.format(step, str(cost_val), str(W_val)))\n",
    "        \n",
    "    # predict\n",
    "    print('Prediction:', sess.run(prediction, feed_dict={X: x_test}))\n",
    "    # Calculate the accuracy\n",
    "    print('Accuracy: ', sess.run(accuracy, feed_dict={X: x_test, Y: y_test}))"
   ]
  },
  {
   "cell_type": "markdown",
   "metadata": {},
   "source": [
    "## Big learning rate\n",
    "\n",
    "`learning_rate = 1.5`"
   ]
  },
  {
   "cell_type": "code",
   "execution_count": 18,
   "metadata": {},
   "outputs": [
    {
     "name": "stdout",
     "output_type": "stream",
     "text": [
      "Step: 0   | Cost: 3.637362\n",
      "W: [[-0.36310768 -0.23795742  0.04847407]\n",
      " [-0.22905315  1.9454874  -1.7949975 ]\n",
      " [-1.1508183   1.4967723  -3.206234  ]]\n",
      "\n",
      "Step: 20  | Cost: nan\n",
      "W: [[nan nan nan]\n",
      " [nan nan nan]\n",
      " [nan nan nan]]\n",
      "\n",
      "Step: 40  | Cost: nan\n",
      "W: [[nan nan nan]\n",
      " [nan nan nan]\n",
      " [nan nan nan]]\n",
      "\n",
      "Step: 60  | Cost: nan\n",
      "W: [[nan nan nan]\n",
      " [nan nan nan]\n",
      " [nan nan nan]]\n",
      "\n",
      "Step: 80  | Cost: nan\n",
      "W: [[nan nan nan]\n",
      " [nan nan nan]\n",
      " [nan nan nan]]\n",
      "\n",
      "Step: 100 | Cost: nan\n",
      "W: [[nan nan nan]\n",
      " [nan nan nan]\n",
      " [nan nan nan]]\n",
      "\n",
      "Step: 120 | Cost: nan\n",
      "W: [[nan nan nan]\n",
      " [nan nan nan]\n",
      " [nan nan nan]]\n",
      "\n",
      "Step: 140 | Cost: nan\n",
      "W: [[nan nan nan]\n",
      " [nan nan nan]\n",
      " [nan nan nan]]\n",
      "\n",
      "Step: 160 | Cost: nan\n",
      "W: [[nan nan nan]\n",
      " [nan nan nan]\n",
      " [nan nan nan]]\n",
      "\n",
      "Step: 180 | Cost: nan\n",
      "W: [[nan nan nan]\n",
      " [nan nan nan]\n",
      " [nan nan nan]]\n",
      "\n",
      "Step: 200 | Cost: nan\n",
      "W: [[nan nan nan]\n",
      " [nan nan nan]\n",
      " [nan nan nan]]\n",
      "\n",
      "Prediction: [0 0 0]\n",
      "Accuracy:  0.0\n"
     ]
    }
   ],
   "source": [
    "# 나머지 코드는 동일\n",
    "optimizer = tf.train.GradientDescentOptimizer(learning_rate=1.5).minimize(cost)"
   ]
  },
  {
   "cell_type": "markdown",
   "metadata": {},
   "source": [
    "## Small learning rate\n",
    "\n",
    "`learning_rate = 1e-10`"
   ]
  },
  {
   "cell_type": "code",
   "execution_count": 19,
   "metadata": {},
   "outputs": [
    {
     "name": "stdout",
     "output_type": "stream",
     "text": [
      "Step: 0   | Cost: 3.21221\n",
      "W: [[-0.5883656   0.16126089 -1.2587235 ]\n",
      " [-1.2615099   0.8227709   0.11493136]\n",
      " [ 1.2846576   0.29706597 -0.00133604]]\n",
      "\n",
      "Step: 20  | Cost: 3.21221\n",
      "W: [[-0.5883656   0.16126089 -1.2587235 ]\n",
      " [-1.2615099   0.8227709   0.11493136]\n",
      " [ 1.2846576   0.29706597 -0.00133604]]\n",
      "\n",
      "Step: 40  | Cost: 3.21221\n",
      "W: [[-0.5883656   0.16126089 -1.2587235 ]\n",
      " [-1.2615099   0.8227709   0.11493136]\n",
      " [ 1.2846576   0.29706597 -0.00133604]]\n",
      "\n",
      "Step: 60  | Cost: 3.21221\n",
      "W: [[-0.5883656   0.16126089 -1.2587235 ]\n",
      " [-1.2615099   0.8227709   0.11493136]\n",
      " [ 1.2846576   0.29706597 -0.00133604]]\n",
      "\n",
      "Step: 80  | Cost: 3.21221\n",
      "W: [[-0.5883656   0.16126089 -1.2587235 ]\n",
      " [-1.2615099   0.8227709   0.11493136]\n",
      " [ 1.2846576   0.29706597 -0.00133603]]\n",
      "\n",
      "Step: 100 | Cost: 3.21221\n",
      "W: [[-0.5883656   0.16126089 -1.2587235 ]\n",
      " [-1.2615099   0.8227709   0.11493136]\n",
      " [ 1.2846576   0.29706597 -0.00133603]]\n",
      "\n",
      "Step: 120 | Cost: 3.21221\n",
      "W: [[-0.5883656   0.16126089 -1.2587235 ]\n",
      " [-1.2615099   0.8227709   0.11493136]\n",
      " [ 1.2846576   0.29706597 -0.00133603]]\n",
      "\n",
      "Step: 140 | Cost: 3.21221\n",
      "W: [[-0.5883656   0.16126089 -1.2587235 ]\n",
      " [-1.2615099   0.8227709   0.11493136]\n",
      " [ 1.2846576   0.29706597 -0.00133603]]\n",
      "\n",
      "Step: 160 | Cost: 3.21221\n",
      "W: [[-0.5883656   0.16126089 -1.2587235 ]\n",
      " [-1.2615099   0.8227709   0.11493136]\n",
      " [ 1.2846576   0.29706597 -0.00133602]]\n",
      "\n",
      "Step: 180 | Cost: 3.21221\n",
      "W: [[-0.5883656   0.16126089 -1.2587235 ]\n",
      " [-1.2615099   0.8227709   0.11493136]\n",
      " [ 1.2846576   0.29706597 -0.00133602]]\n",
      "\n",
      "Step: 200 | Cost: 3.21221\n",
      "W: [[-0.5883656   0.16126089 -1.2587235 ]\n",
      " [-1.2615099   0.8227709   0.11493136]\n",
      " [ 1.2846576   0.29706597 -0.00133602]]\n",
      "\n",
      "Prediction: [1 1 1]\n",
      "Accuracy:  0.0\n"
     ]
    }
   ],
   "source": [
    "# 나머지 코드는 동일\n",
    "optimizer = tf.train.GradientDescentOptimizer(learning_rate=1e-10).minimize(cost)"
   ]
  },
  {
   "cell_type": "markdown",
   "metadata": {},
   "source": [
    "## Non-normalized inputs\n",
    "\n",
    "```python\n",
    "xy = MinMaxScaler(xy)\n",
    "```\n",
    "\n",
    "최대값을 1, 최소값을 0 을 기준으로 값을 변경하여 Normalize"
   ]
  }
 ],
 "metadata": {
  "kernelspec": {
   "display_name": "Python 3",
   "language": "python",
   "name": "python3"
  },
  "language_info": {
   "codemirror_mode": {
    "name": "ipython",
    "version": 3
   },
   "file_extension": ".py",
   "mimetype": "text/x-python",
   "name": "python",
   "nbconvert_exporter": "python",
   "pygments_lexer": "ipython3",
   "version": "3.7.1"
  }
 },
 "nbformat": 4,
 "nbformat_minor": 2
}
