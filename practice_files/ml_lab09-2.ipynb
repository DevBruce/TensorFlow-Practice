{
 "cells": [
  {
   "cell_type": "markdown",
   "metadata": {},
   "source": [
    "# ML lab 09-2 Practice\n",
    "\n",
    "> YouTube Lecture: [link](https://www.youtube.com/watch?v=lmrWZPFYjHM)"
   ]
  },
  {
   "cell_type": "markdown",
   "metadata": {},
   "source": [
    "**1. From TF graph, decide which tensors you want to log**\n",
    "\n",
    "```python\n",
    "w2_hist = tf.summary.historgram(\"weights2\", W2)\n",
    "cost_summ = tf.summary.scalar(\"cost\", cost)\n",
    "```\n",
    "\n",
    "**2. Merge all summaries**\n",
    "\n",
    "```python\n",
    "summary = tf.summray.merge_all()\n",
    "```\n",
    "\n",
    "**3. Create writer and add graph**\n",
    "\n",
    "```python\n",
    "# Create summary writer\n",
    "wirter = tf.summary.FileWriter('.logs')\n",
    "writer.add_graph(sess.graph)\n",
    "```\n",
    "\n",
    "**4. Run summary merge and `add_summary`**\n",
    "\n",
    "```python\n",
    "s, _ = sess.run([summary, optimizer], feed_dict=feed_dict)\n",
    "writer.add_summary(s, global_step=global_step)\n",
    "```\n",
    "\n",
    "**5-1. Launch TensorBoard**\n",
    "\n",
    "```bash\n",
    "$ tensorboard --logdir=./logs\n",
    "```\n",
    "\n",
    "**5-2. Launch TensorBoard (Remote Server)**\n",
    "\n",
    "```bash\n",
    "$ ssh -L <local_port>:127.0.0.1:<remote_port> username@server.com\n",
    "```"
   ]
  }
 ],
 "metadata": {
  "kernelspec": {
   "display_name": "Python 3",
   "language": "python",
   "name": "python3"
  },
  "language_info": {
   "codemirror_mode": {
    "name": "ipython",
    "version": 3
   },
   "file_extension": ".py",
   "mimetype": "text/x-python",
   "name": "python",
   "nbconvert_exporter": "python",
   "pygments_lexer": "ipython3",
   "version": "3.7.1"
  }
 },
 "nbformat": 4,
 "nbformat_minor": 2
}
