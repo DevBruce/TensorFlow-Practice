{
 "cells": [
  {
   "cell_type": "markdown",
   "metadata": {},
   "source": [
    "# ML lab 01 Practice: TensorFlow Basics\n",
    "\n",
    "> YouTube Lecture: [link](https://www.youtube.com/watch?v=-57Ne86Ia8w&feature=youtu.be)"
   ]
  },
  {
   "cell_type": "markdown",
   "metadata": {},
   "source": [
    "## Everything is Tensor\n",
    "\n",
    "- `3` : a rank 0 tensor;  \n",
    "this is a **scalar** with shape []\n",
    "\n",
    "- `[1. , 2. , 3.]` : a rank 1 tensor;  \n",
    "this is a **vector** with shape [3]\n",
    "\n",
    "- `[[1. , 2. , 3.], [4. , 5. , 6.]]`: a rank 2 tensor;  \n",
    "a **matrix** with shape `[2, 3]`\n",
    "\n",
    "- `[[[1. , 2. , 3.]], [[7. , 8. , 9.]]]`: a rank 3 tensor with shape `[2, 1, 3]`\n",
    "\n",
    "<br>\n",
    "\n",
    "## TensorFlow Process\n",
    "\n",
    "(1) Build graph (tensors) using TensorFlow operations  \n",
    "\n",
    "(2) Feed data and Run graph (operation) **sess.run (op)**  \n",
    "If you use placeholder, you can pass data through `feed_dict`  \n",
    "\n",
    "\n",
    "(3) Update variables in the graph (and return values)"
   ]
  },
  {
   "cell_type": "code",
   "execution_count": 20,
   "metadata": {},
   "outputs": [
    {
     "name": "stdout",
     "output_type": "stream",
     "text": [
      "TensorFlow Version: 1.13.1\n"
     ]
    }
   ],
   "source": [
    "import tensorflow as tf\n",
    "\n",
    "print(f'TensorFlow Version: {tf.__version__}')"
   ]
  },
  {
   "cell_type": "markdown",
   "metadata": {},
   "source": [
    "## Hello"
   ]
  },
  {
   "cell_type": "code",
   "execution_count": 2,
   "metadata": {},
   "outputs": [
    {
     "name": "stdout",
     "output_type": "stream",
     "text": [
      "b'Hello, TensorFlow'\n"
     ]
    }
   ],
   "source": [
    "# Create a constant op (operation)\n",
    "# This op is added as a node to the default graph\n",
    "hello = tf.constant('Hello, TensorFlow')\n",
    "\n",
    "# Start a TF Session\n",
    "sess = tf.Session()\n",
    "\n",
    "# Run the op and get result\n",
    "print(sess.run(hello))"
   ]
  },
  {
   "cell_type": "markdown",
   "metadata": {},
   "source": [
    "`b'Hello, TensorFlow'`  \n",
    "앞의 `b` 는 Bytes literals 임을 의미한다."
   ]
  },
  {
   "cell_type": "markdown",
   "metadata": {},
   "source": [
    "## Computational Graph"
   ]
  },
  {
   "cell_type": "code",
   "execution_count": 15,
   "metadata": {},
   "outputs": [],
   "source": [
    "node1 = tf.constant(3.0, tf.float32)\n",
    "node2 = tf.constant(4.0) # constant 의 dtype 은 tf.float32 가 된다. (4.0 으로 주었기 때문)\n",
    "node3 = tf.add(node1, node2)"
   ]
  },
  {
   "cell_type": "code",
   "execution_count": 17,
   "metadata": {},
   "outputs": [
    {
     "name": "stdout",
     "output_type": "stream",
     "text": [
      "node1: Tensor(\"Const_15:0\", shape=(), dtype=float32)\n",
      "node2: Tensor(\"Const_16:0\", shape=(), dtype=float32)\n",
      "node3: Tensor(\"Add_7:0\", shape=(), dtype=float32)\n"
     ]
    }
   ],
   "source": [
    "print('node1:', node1)\n",
    "print('node2:', node2)\n",
    "print('node3:', node3)"
   ]
  },
  {
   "cell_type": "code",
   "execution_count": 18,
   "metadata": {},
   "outputs": [
    {
     "name": "stdout",
     "output_type": "stream",
     "text": [
      "sess.run(node1, node2): [3.0, 4.0]\n",
      "sess.run(node3): 7.0\n"
     ]
    }
   ],
   "source": [
    "sess = tf.Session()\n",
    "print('sess.run(node1, node2):', sess.run([node1, node2]))\n",
    "print('sess.run(node3):', sess.run(node3))"
   ]
  },
  {
   "cell_type": "markdown",
   "metadata": {},
   "source": [
    "## Placeholder"
   ]
  },
  {
   "cell_type": "code",
   "execution_count": 19,
   "metadata": {},
   "outputs": [
    {
     "name": "stdout",
     "output_type": "stream",
     "text": [
      "7.5\n",
      "[3. 7.]\n"
     ]
    }
   ],
   "source": [
    "a = tf.placeholder(tf.float32)\n",
    "b = tf.placeholder(tf.float32)\n",
    "adder_node = a + b  # + provides a shortcut for tf.add(a, b)\n",
    "\n",
    "print(sess.run(adder_node, feed_dict={a: 3, b: 4.5}))\n",
    "print(sess.run(adder_node, feed_dict={a: [1, 3], b: [2, 4]}))"
   ]
  }
 ],
 "metadata": {
  "kernelspec": {
   "display_name": "Python 3",
   "language": "python",
   "name": "python3"
  },
  "language_info": {
   "codemirror_mode": {
    "name": "ipython",
    "version": 3
   },
   "file_extension": ".py",
   "mimetype": "text/x-python",
   "name": "python",
   "nbconvert_exporter": "python",
   "pygments_lexer": "ipython3",
   "version": "3.7.1"
  }
 },
 "nbformat": 4,
 "nbformat_minor": 2
}
