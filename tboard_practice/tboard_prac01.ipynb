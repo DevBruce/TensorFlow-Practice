{
 "cells": [
  {
   "cell_type": "markdown",
   "metadata": {},
   "source": [
    "# TensorBoard Practice \\# 1\n",
    "\n",
    "const a + const b\n",
    "\n",
    "```bash\n",
    "$ tensorboard --logdir=<path>\n",
    "```"
   ]
  },
  {
   "cell_type": "code",
   "execution_count": 1,
   "metadata": {},
   "outputs": [],
   "source": [
    "import tensorflow as tf\n",
    "\n",
    "\n",
    "a = tf.constant(3.0, tf.float32, name=\"a\")\n",
    "b = tf.constant(4.0, tf.float32, name=\"b\")\n",
    "add_a_b = tf.add(a, b, name=\"ADD\")\n",
    "\n",
    "result_a_b = tf.summary.scalar('ADD_Result', add_a_b)\n",
    "summary = tf.summary.merge_all()\n",
    "\n",
    "with tf.Session() as sess:\n",
    "    writer = tf.summary.FileWriter('./tboard_results/tboard_prac01')\n",
    "    writer.add_graph(sess.graph)\n",
    "    result = sess.run(summary)\n",
    "    writer.add_summary(result)"
   ]
  }
 ],
 "metadata": {
  "kernelspec": {
   "display_name": "Python 3",
   "language": "python",
   "name": "python3"
  },
  "language_info": {
   "codemirror_mode": {
    "name": "ipython",
    "version": 3
   },
   "file_extension": ".py",
   "mimetype": "text/x-python",
   "name": "python",
   "nbconvert_exporter": "python",
   "pygments_lexer": "ipython3",
   "version": "3.7.1"
  }
 },
 "nbformat": 4,
 "nbformat_minor": 2
}
