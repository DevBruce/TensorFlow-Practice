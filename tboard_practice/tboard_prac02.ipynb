{
 "cells": [
  {
   "cell_type": "markdown",
   "metadata": {},
   "source": [
    "# TensorBoard Practice \\# 2\n",
    "\n",
    "```bash\n",
    "$ tensorboard --logdir=<path>\n",
    "```"
   ]
  },
  {
   "cell_type": "code",
   "execution_count": 1,
   "metadata": {},
   "outputs": [
    {
     "name": "stdout",
     "output_type": "stream",
     "text": [
      "WARNING:tensorflow:From /Users/bruce/.pyenv/versions/3.7.1/envs/ml_prac/lib/python3.7/site-packages/tensorflow/python/framework/op_def_library.py:263: colocate_with (from tensorflow.python.framework.ops) is deprecated and will be removed in a future version.\n",
      "Instructions for updating:\n",
      "Colocations handled automatically by placer.\n",
      "0 9.729258\n",
      "100 0.001558916\n",
      "200 0.0007918781\n",
      "300 0.00040224387\n",
      "400 0.00020432923\n",
      "500 0.00010379373\n",
      "600 5.2722306e-05\n",
      "700 2.6779831e-05\n",
      "800 1.3603019e-05\n",
      "900 6.9099415e-06\n",
      "1000 3.510222e-06\n",
      "1100 1.7831435e-06\n",
      "1200 9.0592664e-07\n",
      "1300 4.6046935e-07\n",
      "1400 2.3397979e-07\n",
      "1500 1.18996205e-07\n",
      "1600 6.04608e-08\n",
      "1700 3.0756155e-08\n",
      "1800 1.5669457e-08\n",
      "1900 8.0005975e-09\n",
      "2000 4.0900887e-09\n"
     ]
    }
   ],
   "source": [
    "import tensorflow as tf\n",
    "\n",
    "X = tf.placeholder(tf.float32, shape=[None], name='X')\n",
    "Y = tf.placeholder(tf.float32, shape=[None], name='Y')\n",
    "\n",
    "W = tf.Variable(tf.random_normal([1]), name='Weight')\n",
    "b = tf.Variable(tf.random_normal([1]), name='Bias')\n",
    "tf.summary.histogram('histogram_weight', W)  # histogram 의 name 은 어디서 나타나는 건지 의문\n",
    "tf.summary.histogram('hitogram_bias', b)\n",
    "\n",
    "hypothesis = X * W + b\n",
    "tf.summary.histogram('Hypothesis', hypothesis)\n",
    "\n",
    "cost = tf.reduce_mean(tf.square(hypothesis - Y))\n",
    "tf.summary.scalar('Cost', cost)\n",
    "\n",
    "optimizer = tf.train.GradientDescentOptimizer(learning_rate=0.01)\n",
    "train = optimizer.minimize(cost)\n",
    "\n",
    "feed_dict = {X: [1, 2, 3, 4, 5], Y: [2.1, 3.1, 4.1, 5.1, 6.1]}\n",
    "\n",
    "with tf.Session() as sess:\n",
    "    merged_summary = tf.summary.merge_all()\n",
    "    writer = tf.summary.FileWriter('./tboard_results/tboard_prac02')\n",
    "    writer.add_graph(sess.graph)\n",
    "    \n",
    "    sess.run(tf.global_variables_initializer())\n",
    "    for step in range(2000+1):\n",
    "        summary, cost_val, _ = sess.run(\n",
    "            [merged_summary, cost, train],\n",
    "            feed_dict=feed_dict\n",
    "        )\n",
    "        writer.add_summary(summary, global_step=step)\n",
    "        \n",
    "        if step % 100 == 0:\n",
    "            print(step, cost_val)"
   ]
  }
 ],
 "metadata": {
  "kernelspec": {
   "display_name": "Python 3",
   "language": "python",
   "name": "python3"
  },
  "language_info": {
   "codemirror_mode": {
    "name": "ipython",
    "version": 3
   },
   "file_extension": ".py",
   "mimetype": "text/x-python",
   "name": "python",
   "nbconvert_exporter": "python",
   "pygments_lexer": "ipython3",
   "version": "3.7.1"
  }
 },
 "nbformat": 4,
 "nbformat_minor": 2
}
